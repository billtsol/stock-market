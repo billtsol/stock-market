{
 "cells": [
  {
   "cell_type": "code",
   "execution_count": 1,
   "id": "960d7566",
   "metadata": {},
   "outputs": [],
   "source": [
    "# Imports\n",
    "import pandas as pd\n",
    "from sklearn.tree import DecisionTreeClassifier\n",
    "from sklearn.model_selection import train_test_split\n",
    "from sklearn.metrics import accuracy_score\n",
    "from sklearn import tree\n",
    "\n",
    "import joblib"
   ]
  },
  {
   "cell_type": "code",
   "execution_count": 2,
   "id": "71915ab7",
   "metadata": {},
   "outputs": [
    {
     "data": {
      "text/plain": [
       "0.75"
      ]
     },
     "execution_count": 2,
     "metadata": {},
     "output_type": "execute_result"
    }
   ],
   "source": [
    "# import data\n",
    "music_data = pd.read_csv('data/music.csv')\n",
    "X = music_data.drop(columns=['genre'])\n",
    "Y = music_data['genre']\n",
    "x_train, x_test, y_train, y_test = train_test_split(X,Y, test_size=0.2)\n",
    "\n",
    "# Set up the model\n",
    "model = DecisionTreeClassifier()\n",
    "model.fit(x_train, y_train)\n",
    "\n",
    "# Make prediction\n",
    "predictions = model.predict(x_test)\n",
    "\n",
    "# Test the accuracy\n",
    "score = accuracy_score(y_test, predictions)\n",
    "\n",
    "score"
   ]
  },
  {
   "cell_type": "code",
   "execution_count": 58,
   "id": "d5e29086",
   "metadata": {},
   "outputs": [
    {
     "data": {
      "text/plain": [
       "['music-rec.joblib']"
      ]
     },
     "execution_count": 58,
     "metadata": {},
     "output_type": "execute_result"
    }
   ],
   "source": [
    "# Save the model\n",
    "joblib.dump(model, 'music-rec.joblib')"
   ]
  },
  {
   "cell_type": "code",
   "execution_count": 59,
   "id": "2bcbca81",
   "metadata": {},
   "outputs": [
    {
     "name": "stderr",
     "output_type": "stream",
     "text": [
      "c:\\Users\\billt\\anaconda3\\Lib\\site-packages\\sklearn\\base.py:493: UserWarning: X does not have valid feature names, but DecisionTreeClassifier was fitted with feature names\n",
      "  warnings.warn(\n"
     ]
    },
    {
     "data": {
      "text/plain": [
       "array(['HipHop'], dtype=object)"
      ]
     },
     "execution_count": 59,
     "metadata": {},
     "output_type": "execute_result"
    }
   ],
   "source": [
    "# Import the model\n",
    "new_model = joblib.load('music-rec.joblib')\n",
    "new_predictions = new_model.predict([[21, 1]])\n",
    "new_predictions"
   ]
  },
  {
   "cell_type": "code",
   "execution_count": 60,
   "id": "88fdf61f",
   "metadata": {},
   "outputs": [],
   "source": [
    "# Visualazation\n",
    "tree.export_graphviz(model, out_file = 'music-rec.dot',\n",
    "                            feature_names=['age', 'gender'], \n",
    "                            class_names = sorted(Y.unique()),\n",
    "                            label = 'all',\n",
    "                            rounded = True,\n",
    "                            filled = True)\n"
   ]
  }
 ],
 "metadata": {
  "kernelspec": {
   "display_name": "base",
   "language": "python",
   "name": "python3"
  },
  "language_info": {
   "codemirror_mode": {
    "name": "ipython",
    "version": 3
   },
   "file_extension": ".py",
   "mimetype": "text/x-python",
   "name": "python",
   "nbconvert_exporter": "python",
   "pygments_lexer": "ipython3",
   "version": "3.12.7"
  }
 },
 "nbformat": 4,
 "nbformat_minor": 5
}
